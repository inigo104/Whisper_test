{
  "nbformat": 4,
  "nbformat_minor": 0,
  "metadata": {
    "colab": {
      "provenance": [],
      "authorship_tag": "ABX9TyMjk1e95voU2Uurr2wfRpDc",
      "include_colab_link": true
    },
    "kernelspec": {
      "name": "python3",
      "display_name": "Python 3"
    },
    "language_info": {
      "name": "python"
    },
    "accelerator": "GPU",
    "gpuClass": "standard"
  },
  "cells": [
    {
      "cell_type": "markdown",
      "metadata": {
        "id": "view-in-github",
        "colab_type": "text"
      },
      "source": [
        "<a href=\"https://colab.research.google.com/github/inigo104/Whisper_test/blob/main/Whisper_test.ipynb\" target=\"_parent\"><img src=\"https://colab.research.google.com/assets/colab-badge.svg\" alt=\"Open In Colab\"/></a>"
      ]
    },
    {
      "cell_type": "markdown",
      "source": [
        "# 🗣️ Whisper - Notebook creado por DotCSV\n",
        "🚨 Ten activada la Aceleración por hardware con GPU en \"Entorno de ejecución\" > \"Cambiar tipo de entorno de ejecución\"\n"
      ],
      "metadata": {
        "id": "5iVXtVyWUB2z"
      }
    },
    {
      "cell_type": "code",
      "source": [
        "%%capture\n",
        "%cd /content/\n",
        "!git clone https://github.com/openai/whisper.git \n",
        "!pip install git+https://github.com/openai/whisper.git \n"
      ],
      "metadata": {
        "id": "ITvv72tVXFXM"
      },
      "execution_count": 2,
      "outputs": []
    },
    {
      "cell_type": "code",
      "execution_count": 3,
      "metadata": {
        "colab": {
          "base_uri": "https://localhost:8080/"
        },
        "id": "KbL7sBQMT4wj",
        "outputId": "3c69b02e-7e29-4732-9626-a66bdab9cdc2"
      },
      "outputs": [
        {
          "output_type": "stream",
          "name": "stderr",
          "text": [
            "100%|██████████████████████████████████████| 1.42G/1.42G [00:10<00:00, 146MiB/s]\n"
          ]
        }
      ],
      "source": [
        "import whisper\n",
        "\n",
        "size_model = \"medium\" #@param [\"tiny\", \"base\", \"small\", \"medium\",\"large\"]\n",
        "model = whisper.load_model(size_model)\n",
        "\n",
        "\n"
      ]
    },
    {
      "cell_type": "code",
      "source": [
        "audio = whisper.load_audio(\"GoStudent - Visión General.mp4\")\n",
        "audio = whisper.pad_or_trim(audio)\n",
        "\n",
        "result = model.transcribe(audio)\n",
        "\n",
        "\n",
        "print(result[\"text\"])\n"
      ],
      "metadata": {
        "id": "Ho5ny5cYUVGI"
      },
      "execution_count": null,
      "outputs": []
    },
    {
      "cell_type": "markdown",
      "source": [
        "Pediente de implmentar:\n",
        "\n",
        "*   Selecion de fucion\n",
        "*   vincular con drvie para no descargar todo de nuevo cada vez\n",
        "*   Que funcion solo poniendo link de audio/video\n",
        "\n"
      ],
      "metadata": {
        "id": "tuJmvGmTeUNh"
      }
    }
  ]
}